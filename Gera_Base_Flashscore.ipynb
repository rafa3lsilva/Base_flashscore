{
 "cells": [
  {
   "cell_type": "code",
   "execution_count": 2,
   "metadata": {},
   "outputs": [
    {
     "name": "stderr",
     "output_type": "stream",
     "text": [
      "c:\\Users\\Adm\\Desktop\\Rafael\\Nova pasta\\Base_flashscore\\.venv\\Lib\\site-packages\\tqdm\\auto.py:21: TqdmWarning: IProgress not found. Please update jupyter and ipywidgets. See https://ipywidgets.readthedocs.io/en/stable/user_install.html\n",
      "  from .autonotebook import tqdm as notebook_tqdm\n"
     ]
    }
   ],
   "source": [
    "from webscraping import *\n",
    "# from rename import *\n",
    "import ast"
   ]
  },
  {
   "cell_type": "code",
   "execution_count": 3,
   "metadata": {},
   "outputs": [],
   "source": [
    "base_2025 = TinyDB('base_flashscore_2025.json')\n",
    "df1 = pd.DataFrame(base_2025.all())\n",
    "\n",
    "df = pd.concat([df1])\n",
    "df.drop_duplicates(subset='Id', inplace=True)\n",
    "\n",
    "df[['Dia', 'Mes', 'Ano']] = df['Date'].str.split('/', expand=True)\n",
    "df = df.drop(['Date'], axis=1)\n",
    "df['Date'] = df['Ano'] + '-' + df['Mes'] + '-' + df['Dia']\n",
    "df = df.drop(columns=['Dia', 'Mes', 'Ano'], axis=1)\n",
    "# dr = ['League'] = df['League'].applay(replase_league_name)"
   ]
  },
  {
   "cell_type": "code",
   "execution_count": 4,
   "metadata": {},
   "outputs": [
    {
     "data": {
      "text/plain": [
       "array(['ARGENTINA - TORNEO BETANO', 'CHILE - LIGA DE ASCENSO',\n",
       "       'CHILE - LIGA DE PRIMERA', 'CHINA - SUPER LEAGUE',\n",
       "       'COLOMBIA - PRIMERA A', 'COLOMBIA - PRIMERA B',\n",
       "       'ECUADOR - LIGA PRO', 'ESTONIA - ESILIIGA',\n",
       "       'ESTONIA - MEISTRILIIGA', 'IRELAND - DIVISION 1',\n",
       "       'IRELAND - PREMIER DIVISION', 'JAPAN - J1 LEAGUE',\n",
       "       'JAPAN - J2 LEAGUE', 'PARAGUAY - COPA DE PRIMERA', 'PERU - LIGA 1',\n",
       "       'SOUTH AMERICA - COPA LIBERTADORES',\n",
       "       'SOUTH AMERICA - COPA SUDAMERICANA', 'SOUTH KOREA - K LEAGUE 1',\n",
       "       'SOUTH KOREA - K LEAGUE 2', 'URUGUAY - LIGA AUF URUGUAYA',\n",
       "       'USA - MLS', 'VENEZUELA - LIGA FUTVE', nan], dtype=object)"
      ]
     },
     "execution_count": 4,
     "metadata": {},
     "output_type": "execute_result"
    }
   ],
   "source": [
    "leagues = df.sort_values(by='League')\n",
    "leagues = leagues['League'].unique()\n",
    "leagues"
   ]
  },
  {
   "cell_type": "code",
   "execution_count": 5,
   "metadata": {},
   "outputs": [
    {
     "ename": "KeyError",
     "evalue": "\"['Odd_H', 'Odd_D', 'Odd_A', 'Odd_CS_0-O', 'Odd_CS_0-1', 'Odd_CS_0-2', 'Odd_CS_0-3', 'Odd_CS_1-0', 'Odd_CS_1-1', 'Odd_CS_1-2', 'Odd_CS_1-3', 'Odd_CS_2-0', 'Odd_CS_2-1', 'Odd_CS_2-2', 'Odd_CS_2-3', 'Odd_CS_3-0', 'Odd_CS_3-1', 'Odd_CS_3-2', 'Odd_CS_3-3', 'Odd_AH_Neg15_H', 'Odd_AH_Negs15_A', 'Odd_AH_Neg10_H', 'Odd_AH_Neg10_A', 'Odd_AH_Neg05_H', 'Odd_AH_Neg05_A', 'Odd_AH_Neg00_H', 'Odd_AH_Neg00_A', 'Odd_AH_Pos_05_H', 'Odd_AH_Pos_05_A', 'Odd_AH_Pos_10_H', 'Odd_AH_Pos_10_A', 'Odd_AH_Pos_15_H', 'Odd_AH_Pos_15_A'] not in index\"",
     "output_type": "error",
     "traceback": [
      "\u001b[31m---------------------------------------------------------------------------\u001b[39m",
      "\u001b[31mKeyError\u001b[39m                                  Traceback (most recent call last)",
      "\u001b[36mCell\u001b[39m\u001b[36m \u001b[39m\u001b[32mIn[5]\u001b[39m\u001b[32m, line 1\u001b[39m\n\u001b[32m----> \u001b[39m\u001b[32m1\u001b[39m df = \u001b[43mdf\u001b[49m\u001b[43m[\u001b[49m\u001b[43m[\u001b[49m\u001b[33;43m'\u001b[39;49m\u001b[33;43mId\u001b[39;49m\u001b[33;43m'\u001b[39;49m\u001b[43m,\u001b[49m\u001b[33;43m'\u001b[39;49m\u001b[33;43mLeague\u001b[39;49m\u001b[33;43m'\u001b[39;49m\u001b[43m,\u001b[49m\u001b[43m \u001b[49m\u001b[33;43m'\u001b[39;49m\u001b[33;43mSeason\u001b[39;49m\u001b[33;43m'\u001b[39;49m\u001b[43m,\u001b[49m\u001b[33;43m'\u001b[39;49m\u001b[33;43mRound\u001b[39;49m\u001b[33;43m'\u001b[39;49m\u001b[43m,\u001b[49m\u001b[33;43m'\u001b[39;49m\u001b[33;43mDate\u001b[39;49m\u001b[33;43m'\u001b[39;49m\u001b[43m,\u001b[49m\u001b[33;43m'\u001b[39;49m\u001b[33;43mTime\u001b[39;49m\u001b[33;43m'\u001b[39;49m\u001b[43m,\u001b[49m\u001b[33;43m'\u001b[39;49m\u001b[33;43mHome\u001b[39;49m\u001b[33;43m'\u001b[39;49m\u001b[43m,\u001b[49m\u001b[33;43m'\u001b[39;49m\u001b[33;43mAway\u001b[39;49m\u001b[33;43m'\u001b[39;49m\u001b[43m,\u001b[49m\n\u001b[32m      2\u001b[39m \u001b[43m         \u001b[49m\u001b[33;43m'\u001b[39;49m\u001b[33;43mGoals_H_HT\u001b[39;49m\u001b[33;43m'\u001b[39;49m\u001b[43m,\u001b[49m\u001b[33;43m'\u001b[39;49m\u001b[33;43mGoals_A_HT\u001b[39;49m\u001b[33;43m'\u001b[39;49m\u001b[43m,\u001b[49m\u001b[33;43m'\u001b[39;49m\u001b[33;43mGoals_H_FT\u001b[39;49m\u001b[33;43m'\u001b[39;49m\u001b[43m,\u001b[49m\u001b[33;43m'\u001b[39;49m\u001b[33;43mGoals_A_FT\u001b[39;49m\u001b[33;43m'\u001b[39;49m\u001b[43m,\u001b[49m\u001b[33;43m'\u001b[39;49m\u001b[33;43mGoals_Minutes_Home\u001b[39;49m\u001b[33;43m'\u001b[39;49m\u001b[43m,\u001b[49m\u001b[33;43m'\u001b[39;49m\u001b[33;43mGoals_Minutes_Away\u001b[39;49m\u001b[33;43m'\u001b[39;49m\u001b[43m,\u001b[49m\n\u001b[32m      3\u001b[39m \u001b[43m         \u001b[49m\u001b[33;43m'\u001b[39;49m\u001b[33;43mOdd_H\u001b[39;49m\u001b[33;43m'\u001b[39;49m\u001b[43m,\u001b[49m\u001b[33;43m'\u001b[39;49m\u001b[33;43mOdd_D\u001b[39;49m\u001b[33;43m'\u001b[39;49m\u001b[43m,\u001b[49m\u001b[33;43m'\u001b[39;49m\u001b[33;43mOdd_A\u001b[39;49m\u001b[33;43m'\u001b[39;49m\u001b[43m,\u001b[49m\u001b[33;43m'\u001b[39;49m\u001b[33;43mOdd_Over05_HT\u001b[39;49m\u001b[33;43m'\u001b[39;49m\u001b[43m,\u001b[49m\u001b[33;43m'\u001b[39;49m\u001b[33;43mOdd_Under05_HT\u001b[39;49m\u001b[33;43m'\u001b[39;49m\u001b[43m,\u001b[49m\u001b[33;43m'\u001b[39;49m\u001b[33;43mOdd_Over05_FT\u001b[39;49m\u001b[33;43m'\u001b[39;49m\u001b[43m,\u001b[49m\u001b[33;43m'\u001b[39;49m\u001b[33;43mOdd_Under05_FT\u001b[39;49m\u001b[33;43m'\u001b[39;49m\u001b[43m,\u001b[49m\n\u001b[32m      4\u001b[39m \u001b[43m         \u001b[49m\u001b[33;43m'\u001b[39;49m\u001b[33;43mOdd_Over15_FT\u001b[39;49m\u001b[33;43m'\u001b[39;49m\u001b[43m,\u001b[49m\u001b[33;43m'\u001b[39;49m\u001b[33;43mOdd_Under15_FT\u001b[39;49m\u001b[33;43m'\u001b[39;49m\u001b[43m,\u001b[49m\u001b[33;43m'\u001b[39;49m\u001b[33;43mOdd_Over25_FT\u001b[39;49m\u001b[33;43m'\u001b[39;49m\u001b[43m,\u001b[49m\u001b[33;43m'\u001b[39;49m\u001b[33;43mOdd_Under25_FT\u001b[39;49m\u001b[33;43m'\u001b[39;49m\u001b[43m,\u001b[49m\n\u001b[32m      5\u001b[39m \u001b[43m         \u001b[49m\u001b[33;43m'\u001b[39;49m\u001b[33;43mOdd_BTTS_Yes\u001b[39;49m\u001b[33;43m'\u001b[39;49m\u001b[43m,\u001b[49m\u001b[33;43m'\u001b[39;49m\u001b[33;43mOdd_BTTS_No\u001b[39;49m\u001b[33;43m'\u001b[39;49m\u001b[43m,\u001b[49m\u001b[33;43m'\u001b[39;49m\u001b[33;43mOdd_1X\u001b[39;49m\u001b[33;43m'\u001b[39;49m\u001b[43m,\u001b[49m\u001b[33;43m'\u001b[39;49m\u001b[33;43mOdd_12\u001b[39;49m\u001b[33;43m'\u001b[39;49m\u001b[43m,\u001b[49m\u001b[33;43m'\u001b[39;49m\u001b[33;43mOdd_X2\u001b[39;49m\u001b[33;43m'\u001b[39;49m\u001b[43m,\u001b[49m\u001b[33;43m'\u001b[39;49m\u001b[33;43mOdd_CS_0-O\u001b[39;49m\u001b[33;43m'\u001b[39;49m\u001b[43m,\u001b[49m\u001b[33;43m'\u001b[39;49m\u001b[33;43mOdd_CS_0-1\u001b[39;49m\u001b[33;43m'\u001b[39;49m\u001b[43m,\u001b[49m\u001b[33;43m'\u001b[39;49m\u001b[33;43mOdd_CS_0-2\u001b[39;49m\u001b[33;43m'\u001b[39;49m\u001b[43m,\u001b[49m\n\u001b[32m      6\u001b[39m \u001b[43m         \u001b[49m\u001b[33;43m'\u001b[39;49m\u001b[33;43mOdd_CS_0-3\u001b[39;49m\u001b[33;43m'\u001b[39;49m\u001b[43m,\u001b[49m\u001b[33;43m'\u001b[39;49m\u001b[33;43mOdd_CS_1-0\u001b[39;49m\u001b[33;43m'\u001b[39;49m\u001b[43m,\u001b[49m\u001b[33;43m'\u001b[39;49m\u001b[33;43mOdd_CS_1-1\u001b[39;49m\u001b[33;43m'\u001b[39;49m\u001b[43m,\u001b[49m\u001b[33;43m'\u001b[39;49m\u001b[33;43mOdd_CS_1-2\u001b[39;49m\u001b[33;43m'\u001b[39;49m\u001b[43m,\u001b[49m\u001b[33;43m'\u001b[39;49m\u001b[33;43mOdd_CS_1-3\u001b[39;49m\u001b[33;43m'\u001b[39;49m\u001b[43m,\u001b[49m\u001b[33;43m'\u001b[39;49m\u001b[33;43mOdd_CS_2-0\u001b[39;49m\u001b[33;43m'\u001b[39;49m\u001b[43m,\u001b[49m\u001b[33;43m'\u001b[39;49m\u001b[33;43mOdd_CS_2-1\u001b[39;49m\u001b[33;43m'\u001b[39;49m\u001b[43m,\u001b[49m\n\u001b[32m      7\u001b[39m \u001b[43m         \u001b[49m\u001b[33;43m'\u001b[39;49m\u001b[33;43mOdd_CS_2-2\u001b[39;49m\u001b[33;43m'\u001b[39;49m\u001b[43m,\u001b[49m\u001b[33;43m'\u001b[39;49m\u001b[33;43mOdd_CS_2-3\u001b[39;49m\u001b[33;43m'\u001b[39;49m\u001b[43m,\u001b[49m\u001b[33;43m'\u001b[39;49m\u001b[33;43mOdd_CS_3-0\u001b[39;49m\u001b[33;43m'\u001b[39;49m\u001b[43m,\u001b[49m\u001b[33;43m'\u001b[39;49m\u001b[33;43mOdd_CS_3-1\u001b[39;49m\u001b[33;43m'\u001b[39;49m\u001b[43m,\u001b[49m\u001b[33;43m'\u001b[39;49m\u001b[33;43mOdd_CS_3-2\u001b[39;49m\u001b[33;43m'\u001b[39;49m\u001b[43m,\u001b[49m\u001b[33;43m'\u001b[39;49m\u001b[33;43mOdd_CS_3-3\u001b[39;49m\u001b[33;43m'\u001b[39;49m\u001b[43m,\u001b[49m\u001b[33;43m'\u001b[39;49m\u001b[33;43mOdd_AH_Neg15_H\u001b[39;49m\u001b[33;43m'\u001b[39;49m\u001b[43m,\u001b[49m\n\u001b[32m      8\u001b[39m \u001b[43m         \u001b[49m\u001b[33;43m'\u001b[39;49m\u001b[33;43mOdd_AH_Negs15_A\u001b[39;49m\u001b[33;43m'\u001b[39;49m\u001b[43m,\u001b[49m\u001b[33;43m'\u001b[39;49m\u001b[33;43mOdd_AH_Neg10_H\u001b[39;49m\u001b[33;43m'\u001b[39;49m\u001b[43m,\u001b[49m\u001b[33;43m'\u001b[39;49m\u001b[33;43mOdd_AH_Neg10_A\u001b[39;49m\u001b[33;43m'\u001b[39;49m\u001b[43m,\u001b[49m\u001b[33;43m'\u001b[39;49m\u001b[33;43mOdd_AH_Neg05_H\u001b[39;49m\u001b[33;43m'\u001b[39;49m\u001b[43m,\u001b[49m\u001b[33;43m'\u001b[39;49m\u001b[33;43mOdd_AH_Neg05_A\u001b[39;49m\u001b[33;43m'\u001b[39;49m\u001b[43m,\u001b[49m\u001b[33;43m'\u001b[39;49m\u001b[33;43mOdd_AH_Neg00_H\u001b[39;49m\u001b[33;43m'\u001b[39;49m\u001b[43m,\u001b[49m\n\u001b[32m      9\u001b[39m \u001b[43m         \u001b[49m\u001b[33;43m'\u001b[39;49m\u001b[33;43mOdd_AH_Neg00_A\u001b[39;49m\u001b[33;43m'\u001b[39;49m\u001b[43m,\u001b[49m\u001b[33;43m'\u001b[39;49m\u001b[33;43mOdd_AH_Pos_05_H\u001b[39;49m\u001b[33;43m'\u001b[39;49m\u001b[43m,\u001b[49m\u001b[33;43m'\u001b[39;49m\u001b[33;43mOdd_AH_Pos_05_A\u001b[39;49m\u001b[33;43m'\u001b[39;49m\u001b[43m,\u001b[49m\u001b[33;43m'\u001b[39;49m\u001b[33;43mOdd_AH_Pos_10_H\u001b[39;49m\u001b[33;43m'\u001b[39;49m\u001b[43m,\u001b[49m\u001b[33;43m'\u001b[39;49m\u001b[33;43mOdd_AH_Pos_10_A\u001b[39;49m\u001b[33;43m'\u001b[39;49m\u001b[43m,\u001b[49m\u001b[33;43m'\u001b[39;49m\u001b[33;43mOdd_AH_Pos_15_H\u001b[39;49m\u001b[33;43m'\u001b[39;49m\u001b[43m,\u001b[49m\u001b[33;43m'\u001b[39;49m\u001b[33;43mOdd_AH_Pos_15_A\u001b[39;49m\u001b[33;43m'\u001b[39;49m\u001b[43m]\u001b[49m\u001b[43m]\u001b[49m\n\u001b[32m     11\u001b[39m df.columns = [\u001b[33m'\u001b[39m\u001b[33mId\u001b[39m\u001b[33m'\u001b[39m,\u001b[33m'\u001b[39m\u001b[33mLeague\u001b[39m\u001b[33m'\u001b[39m, \u001b[33m'\u001b[39m\u001b[33mSeason\u001b[39m\u001b[33m'\u001b[39m,\u001b[33m'\u001b[39m\u001b[33mRound\u001b[39m\u001b[33m'\u001b[39m,\u001b[33m'\u001b[39m\u001b[33mDate\u001b[39m\u001b[33m'\u001b[39m,\u001b[33m'\u001b[39m\u001b[33mTime\u001b[39m\u001b[33m'\u001b[39m,\u001b[33m'\u001b[39m\u001b[33mHome\u001b[39m\u001b[33m'\u001b[39m,\u001b[33m'\u001b[39m\u001b[33mAway\u001b[39m\u001b[33m'\u001b[39m,\n\u001b[32m     12\u001b[39m               \u001b[33m'\u001b[39m\u001b[33mGoals_H_HT\u001b[39m\u001b[33m'\u001b[39m,\u001b[33m'\u001b[39m\u001b[33mGoals_A_HT\u001b[39m\u001b[33m'\u001b[39m,\u001b[33m'\u001b[39m\u001b[33mGoals_H_FT\u001b[39m\u001b[33m'\u001b[39m,\u001b[33m'\u001b[39m\u001b[33mGoals_A_FT\u001b[39m\u001b[33m'\u001b[39m,\u001b[33m'\u001b[39m\u001b[33mGoals_Min_H\u001b[39m\u001b[33m'\u001b[39m,\u001b[33m'\u001b[39m\u001b[33mGoals_Min_A\u001b[39m\u001b[33m'\u001b[39m,\n\u001b[32m     13\u001b[39m               \u001b[33m'\u001b[39m\u001b[33mOdd_H\u001b[39m\u001b[33m'\u001b[39m,\u001b[33m'\u001b[39m\u001b[33mOdd_D\u001b[39m\u001b[33m'\u001b[39m,\u001b[33m'\u001b[39m\u001b[33mOdd_A\u001b[39m\u001b[33m'\u001b[39m,\u001b[33m'\u001b[39m\u001b[33mOdd_Over05_HT\u001b[39m\u001b[33m'\u001b[39m,\u001b[33m'\u001b[39m\u001b[33mOdd_Under05_HT\u001b[39m\u001b[33m'\u001b[39m,\u001b[33m'\u001b[39m\u001b[33mOdd_Over05_FT\u001b[39m\u001b[33m'\u001b[39m,\u001b[33m'\u001b[39m\u001b[33mOdd_Under05_FT\u001b[39m\u001b[33m'\u001b[39m,\n\u001b[32m   (...)\u001b[39m\u001b[32m     19\u001b[39m               \u001b[33m'\u001b[39m\u001b[33mOdd_AH_Neg05_A\u001b[39m\u001b[33m'\u001b[39m,\u001b[33m'\u001b[39m\u001b[33mOdd_AH_Neg00_H\u001b[39m\u001b[33m'\u001b[39m,\u001b[33m'\u001b[39m\u001b[33mOdd_AH_Neg00_A\u001b[39m\u001b[33m'\u001b[39m,\u001b[33m'\u001b[39m\u001b[33mOdd_AH_Pos_05_H\u001b[39m\u001b[33m'\u001b[39m,\n\u001b[32m     20\u001b[39m               \u001b[33m'\u001b[39m\u001b[33mOdd_AH_Pos_05_A\u001b[39m\u001b[33m'\u001b[39m,\u001b[33m'\u001b[39m\u001b[33mOdd_AH_Pos_10_H\u001b[39m\u001b[33m'\u001b[39m,\u001b[33m'\u001b[39m\u001b[33mOdd_AH_Pos_10_A\u001b[39m\u001b[33m'\u001b[39m,\u001b[33m'\u001b[39m\u001b[33mOdd_AH_Pos_15_H\u001b[39m\u001b[33m'\u001b[39m,\u001b[33m'\u001b[39m\u001b[33mOdd_AH_Pos_15_A\u001b[39m\u001b[33m'\u001b[39m]\n",
      "\u001b[36mFile \u001b[39m\u001b[32mc:\\Users\\Adm\\Desktop\\Rafael\\Nova pasta\\Base_flashscore\\.venv\\Lib\\site-packages\\pandas\\core\\frame.py:4108\u001b[39m, in \u001b[36mDataFrame.__getitem__\u001b[39m\u001b[34m(self, key)\u001b[39m\n\u001b[32m   4106\u001b[39m     \u001b[38;5;28;01mif\u001b[39;00m is_iterator(key):\n\u001b[32m   4107\u001b[39m         key = \u001b[38;5;28mlist\u001b[39m(key)\n\u001b[32m-> \u001b[39m\u001b[32m4108\u001b[39m     indexer = \u001b[38;5;28;43mself\u001b[39;49m\u001b[43m.\u001b[49m\u001b[43mcolumns\u001b[49m\u001b[43m.\u001b[49m\u001b[43m_get_indexer_strict\u001b[49m\u001b[43m(\u001b[49m\u001b[43mkey\u001b[49m\u001b[43m,\u001b[49m\u001b[43m \u001b[49m\u001b[33;43m\"\u001b[39;49m\u001b[33;43mcolumns\u001b[39;49m\u001b[33;43m\"\u001b[39;49m\u001b[43m)\u001b[49m[\u001b[32m1\u001b[39m]\n\u001b[32m   4110\u001b[39m \u001b[38;5;66;03m# take() does not accept boolean indexers\u001b[39;00m\n\u001b[32m   4111\u001b[39m \u001b[38;5;28;01mif\u001b[39;00m \u001b[38;5;28mgetattr\u001b[39m(indexer, \u001b[33m\"\u001b[39m\u001b[33mdtype\u001b[39m\u001b[33m\"\u001b[39m, \u001b[38;5;28;01mNone\u001b[39;00m) == \u001b[38;5;28mbool\u001b[39m:\n",
      "\u001b[36mFile \u001b[39m\u001b[32mc:\\Users\\Adm\\Desktop\\Rafael\\Nova pasta\\Base_flashscore\\.venv\\Lib\\site-packages\\pandas\\core\\indexes\\base.py:6200\u001b[39m, in \u001b[36mIndex._get_indexer_strict\u001b[39m\u001b[34m(self, key, axis_name)\u001b[39m\n\u001b[32m   6197\u001b[39m \u001b[38;5;28;01melse\u001b[39;00m:\n\u001b[32m   6198\u001b[39m     keyarr, indexer, new_indexer = \u001b[38;5;28mself\u001b[39m._reindex_non_unique(keyarr)\n\u001b[32m-> \u001b[39m\u001b[32m6200\u001b[39m \u001b[38;5;28;43mself\u001b[39;49m\u001b[43m.\u001b[49m\u001b[43m_raise_if_missing\u001b[49m\u001b[43m(\u001b[49m\u001b[43mkeyarr\u001b[49m\u001b[43m,\u001b[49m\u001b[43m \u001b[49m\u001b[43mindexer\u001b[49m\u001b[43m,\u001b[49m\u001b[43m \u001b[49m\u001b[43maxis_name\u001b[49m\u001b[43m)\u001b[49m\n\u001b[32m   6202\u001b[39m keyarr = \u001b[38;5;28mself\u001b[39m.take(indexer)\n\u001b[32m   6203\u001b[39m \u001b[38;5;28;01mif\u001b[39;00m \u001b[38;5;28misinstance\u001b[39m(key, Index):\n\u001b[32m   6204\u001b[39m     \u001b[38;5;66;03m# GH 42790 - Preserve name from an Index\u001b[39;00m\n",
      "\u001b[36mFile \u001b[39m\u001b[32mc:\\Users\\Adm\\Desktop\\Rafael\\Nova pasta\\Base_flashscore\\.venv\\Lib\\site-packages\\pandas\\core\\indexes\\base.py:6252\u001b[39m, in \u001b[36mIndex._raise_if_missing\u001b[39m\u001b[34m(self, key, indexer, axis_name)\u001b[39m\n\u001b[32m   6249\u001b[39m     \u001b[38;5;28;01mraise\u001b[39;00m \u001b[38;5;167;01mKeyError\u001b[39;00m(\u001b[33mf\u001b[39m\u001b[33m\"\u001b[39m\u001b[33mNone of [\u001b[39m\u001b[38;5;132;01m{\u001b[39;00mkey\u001b[38;5;132;01m}\u001b[39;00m\u001b[33m] are in the [\u001b[39m\u001b[38;5;132;01m{\u001b[39;00maxis_name\u001b[38;5;132;01m}\u001b[39;00m\u001b[33m]\u001b[39m\u001b[33m\"\u001b[39m)\n\u001b[32m   6251\u001b[39m not_found = \u001b[38;5;28mlist\u001b[39m(ensure_index(key)[missing_mask.nonzero()[\u001b[32m0\u001b[39m]].unique())\n\u001b[32m-> \u001b[39m\u001b[32m6252\u001b[39m \u001b[38;5;28;01mraise\u001b[39;00m \u001b[38;5;167;01mKeyError\u001b[39;00m(\u001b[33mf\u001b[39m\u001b[33m\"\u001b[39m\u001b[38;5;132;01m{\u001b[39;00mnot_found\u001b[38;5;132;01m}\u001b[39;00m\u001b[33m not in index\u001b[39m\u001b[33m\"\u001b[39m)\n",
      "\u001b[31mKeyError\u001b[39m: \"['Odd_H', 'Odd_D', 'Odd_A', 'Odd_CS_0-O', 'Odd_CS_0-1', 'Odd_CS_0-2', 'Odd_CS_0-3', 'Odd_CS_1-0', 'Odd_CS_1-1', 'Odd_CS_1-2', 'Odd_CS_1-3', 'Odd_CS_2-0', 'Odd_CS_2-1', 'Odd_CS_2-2', 'Odd_CS_2-3', 'Odd_CS_3-0', 'Odd_CS_3-1', 'Odd_CS_3-2', 'Odd_CS_3-3', 'Odd_AH_Neg15_H', 'Odd_AH_Negs15_A', 'Odd_AH_Neg10_H', 'Odd_AH_Neg10_A', 'Odd_AH_Neg05_H', 'Odd_AH_Neg05_A', 'Odd_AH_Neg00_H', 'Odd_AH_Neg00_A', 'Odd_AH_Pos_05_H', 'Odd_AH_Pos_05_A', 'Odd_AH_Pos_10_H', 'Odd_AH_Pos_10_A', 'Odd_AH_Pos_15_H', 'Odd_AH_Pos_15_A'] not in index\""
     ]
    }
   ],
   "source": [
    "df = df[['Id','League', 'Season','Round','Date','Time','Home','Away',\n",
    "         'Goals_H_HT','Goals_A_HT','Goals_H_FT','Goals_A_FT','Goals_Minutes_Home','Goals_Minutes_Away',\n",
    "         'Odd_H','Odd_D','Odd_A','Odd_Over05_HT','Odd_Under05_HT','Odd_Over05_FT','Odd_Under05_FT',\n",
    "         'Odd_Over15_FT','Odd_Under15_FT','Odd_Over25_FT','Odd_Under25_FT',\n",
    "         'Odd_BTTS_Yes','Odd_BTTS_No','Odd_1X','Odd_12','Odd_X2','Odd_CS_0-O','Odd_CS_0-1','Odd_CS_0-2',\n",
    "         'Odd_CS_0-3','Odd_CS_1-0','Odd_CS_1-1','Odd_CS_1-2','Odd_CS_1-3','Odd_CS_2-0','Odd_CS_2-1',\n",
    "         'Odd_CS_2-2','Odd_CS_2-3','Odd_CS_3-0','Odd_CS_3-1','Odd_CS_3-2','Odd_CS_3-3','Odd_AH_Neg15_H',\n",
    "         'Odd_AH_Negs15_A','Odd_AH_Neg10_H','Odd_AH_Neg10_A','Odd_AH_Neg05_H','Odd_AH_Neg05_A','Odd_AH_Neg00_H',\n",
    "         'Odd_AH_Neg00_A','Odd_AH_Pos_05_H','Odd_AH_Pos_05_A','Odd_AH_Pos_10_H','Odd_AH_Pos_10_A','Odd_AH_Pos_15_H','Odd_AH_Pos_15_A']]\n",
    "\n",
    "df.columns = ['Id','League', 'Season','Round','Date','Time','Home','Away',\n",
    "              'Goals_H_HT','Goals_A_HT','Goals_H_FT','Goals_A_FT','Goals_Min_H','Goals_Min_A',\n",
    "              'Odd_H','Odd_D','Odd_A','Odd_Over05_HT','Odd_Under05_HT','Odd_Over05_FT','Odd_Under05_FT',\n",
    "              'Odd_Over15_FT','Odd_Under15_FT','Odd_Over25_FT','Odd_Under25_FT',\n",
    "              'Odd_BTTS_Yes','Odd_BTTS_No','Odd_1X','Odd_12','Odd_X2','Odd_0x0','Odd_0x1','Odd_0x2',\n",
    "              'Odd_0x3','Odd_1x0','Odd_1x1','Odd_1x2','Odd_1x3','Odd_2x0','Odd_2x1',\n",
    "              'Odd_2x2','Odd_2x3','Odd_3x0','Odd_3x1','Odd_3x2','Odd_3x3','Odd_AH_Neg15_H',\n",
    "              'Odd_AH_Negs15_A','Odd_AH_Neg10_H','Odd_AH_Neg10_A','Odd_AH_Neg05_H',\n",
    "              'Odd_AH_Neg05_A','Odd_AH_Neg00_H','Odd_AH_Neg00_A','Odd_AH_Pos_05_H',\n",
    "              'Odd_AH_Pos_05_A','Odd_AH_Pos_10_H','Odd_AH_Pos_10_A','Odd_AH_Pos_15_H','Odd_AH_Pos_15_A']"
   ]
  },
  {
   "cell_type": "code",
   "execution_count": null,
   "metadata": {},
   "outputs": [],
   "source": [
    "df.fillna(0, inplace=True)\n",
    "df['Goals_H_HT'] = df['Goals_H_HT'].astype(int)\n",
    "df['Goals_A_HT'] = df['Goals_A_HT'].astype(int)\n",
    "df['Goals_H_FT'] = df['Goals_H_FT'].astype(int)\n",
    "df['Goals_A_FT'] = df['Goals_A_FT'].astype(int)\n",
    "df= df.sort_values(['Date','Time'])\n",
    "df = drop_reset_index(df)\n",
    "display(df)"
   ]
  }
 ],
 "metadata": {
  "kernelspec": {
   "display_name": "Python 3",
   "language": "python",
   "name": "python3"
  },
  "language_info": {
   "codemirror_mode": {
    "name": "ipython",
    "version": 3
   },
   "file_extension": ".py",
   "mimetype": "text/x-python",
   "name": "python",
   "nbconvert_exporter": "python",
   "pygments_lexer": "ipython3",
   "version": "3.13.0"
  }
 },
 "nbformat": 4,
 "nbformat_minor": 2
}
